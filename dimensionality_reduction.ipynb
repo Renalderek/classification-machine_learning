{
  "nbformat": 4,
  "nbformat_minor": 0,
  "metadata": {
    "colab": {
      "provenance": [],
      "authorship_tag": "ABX9TyMApzOPsoLK6Sbi4KliBit8",
      "include_colab_link": true
    },
    "kernelspec": {
      "name": "python3",
      "display_name": "Python 3"
    },
    "language_info": {
      "name": "python"
    }
  },
  "cells": [
    {
      "cell_type": "markdown",
      "metadata": {
        "id": "view-in-github",
        "colab_type": "text"
      },
      "source": [
        "<a href=\"https://colab.research.google.com/github/Renalderek/classification-machine_learning/blob/main/dimensionality_reduction.ipynb\" target=\"_parent\"><img src=\"https://colab.research.google.com/assets/colab-badge.svg\" alt=\"Open In Colab\"/></a>"
      ]
    },
    {
      "cell_type": "code",
      "execution_count": null,
      "metadata": {
        "colab": {
          "base_uri": "https://localhost:8080/"
        },
        "id": "5XZbwlYLcNJT",
        "outputId": "cde7a8e0-1151-483d-da4c-6722069ca53a"
      },
      "outputs": [
        {
          "output_type": "execute_result",
          "data": {
            "text/plain": [
              "0.9333333333333333"
            ]
          },
          "metadata": {},
          "execution_count": 9
        }
      ],
      "source": [
        "from sklearn import datasets\n",
        "from sklearn.model_selection import train_test_split\n",
        "\n",
        "iris = datasets.load_iris()\n",
        "atribut = iris.data\n",
        "label = iris.target\n",
        "\n",
        "# bagi dataset menjadi train set dan test set\n",
        "X_train,X_test,y_train,y_test = train_test_split(\n",
        "    atribut,label,test_size = 0.2, random_state =1\n",
        ")\n",
        "from sklearn import tree\n",
        "\n",
        "decision_tree = tree.DecisionTreeClassifier()\n",
        "model_pertama = decision_tree.fit(X_train,y_train)\n",
        "model_pertama.score(X_test,y_test)\n",
        "\n",
        "from sklearn.decomposition import PCA\n",
        "# membuat objek pca dengan pricipal component\n",
        "\n",
        "pca = PCA(n_components=4)\n",
        "\n",
        "\n",
        "# mengaplikasian pca pada dataset\n",
        "\n",
        "pca_Attributes = pca.fit_transform(X_train)\n",
        "\n",
        "# melihat variance dari setiap atribut\n",
        "\n",
        "pca.explained_variance_ratio_\n",
        "\n",
        "# PCA dengan 2 principal component\n",
        "pca = PCA(n_components = 2)\n",
        "X_train_pca = pca.fit_transform(X_train)\n",
        "X_test_pca = pca.fit_transform(X_test)\n",
        "\n",
        "\n",
        "# Uji Akurasi Classfier\n",
        "model2 = decision_tree.fit(X_train_pca,y_train)\n",
        "model2.score(X_test_pca,y_test)"
      ]
    }
  ]
}