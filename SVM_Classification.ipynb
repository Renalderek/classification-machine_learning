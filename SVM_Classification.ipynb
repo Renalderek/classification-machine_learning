{
  "nbformat": 4,
  "nbformat_minor": 0,
  "metadata": {
    "colab": {
      "provenance": [],
      "authorship_tag": "ABX9TyMci48+5HXVyZzzndeuymCU",
      "include_colab_link": true
    },
    "kernelspec": {
      "name": "python3",
      "display_name": "Python 3"
    },
    "language_info": {
      "name": "python"
    }
  },
  "cells": [
    {
      "cell_type": "markdown",
      "metadata": {
        "id": "view-in-github",
        "colab_type": "text"
      },
      "source": [
        "<a href=\"https://colab.research.google.com/github/Renalderek/classification-machine_learning/blob/main/SVM_Classification.ipynb\" target=\"_parent\"><img src=\"https://colab.research.google.com/assets/colab-badge.svg\" alt=\"Open In Colab\"/></a>"
      ]
    },
    {
      "cell_type": "code",
      "execution_count": null,
      "metadata": {
        "colab": {
          "base_uri": "https://localhost:8080/"
        },
        "id": "RoiEuHXAG4bi",
        "outputId": "63c02578-43bf-410f-c1b0-6eeaabab5a20"
      },
      "outputs": [
        {
          "output_type": "execute_result",
          "data": {
            "text/plain": [
              "0.7559055118110236"
            ]
          },
          "metadata": {},
          "execution_count": 12
        }
      ],
      "source": [
        "import pandas as pd\n",
        "\n",
        "df = pd.read_csv('diabetes.csv')\n",
        "\n",
        "df.head()\n",
        "\n",
        "# menyimpan atribut pada dataset dan menyimpannya dala variabel\n",
        "X = df[df.columns[:8]]\n",
        "\n",
        "# memisahkan label pada dataset dan menyimpanya dalam variabel\n",
        "y = df['Outcome']\n",
        "\n",
        "from sklearn.preprocessing import StandardScaler\n",
        "\n",
        "# standarisasi nilai-nilai dari dataset\n",
        "scaler = StandardScaler()\n",
        "scaler.fit(X)\n",
        "X = scaler.transform(X)\n",
        "\n",
        "from sklearn.model_selection import train_test_split\n",
        "\n",
        "# memisahkan data training dan data testing\n",
        "X_train,X_test,y_train,y_test = train_test_split(\n",
        "    X,y,test_size=0.33 , random_state=42)\n",
        "\n",
        "from sklearn.svm import SVC\n",
        "\n",
        "# membuat fungsi svc dan memanggil fungsi fit untuk melatih model\n",
        "clf = SVC()\n",
        "clf.fit(X_train,y_train)\n",
        "\n",
        "# menampilkan skor prediksi\n",
        "clf.score(X_test,y_test)\n",
        "\n"
      ]
    },
    {
      "cell_type": "markdown",
      "source": [],
      "metadata": {
        "id": "gXEQZzkXP2hs"
      }
    }
  ]
}